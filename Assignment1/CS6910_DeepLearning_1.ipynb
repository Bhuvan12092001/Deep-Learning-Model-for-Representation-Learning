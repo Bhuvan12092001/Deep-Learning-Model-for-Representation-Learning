{
  "nbformat": 4,
  "nbformat_minor": 0,
  "metadata": {
    "colab": {
      "provenance": []
    },
    "kernelspec": {
      "name": "python3",
      "display_name": "Python 3"
    },
    "language_info": {
      "name": "python"
    }
  },
  "cells": [
    {
      "cell_type": "markdown",
      "source": [
        "**Deep Learning Project - 1**\n",
        "\n",
        "In this we are implementing Feed Forward Neural Network from scracth. \\\\\n",
        "And using that on Fashion MNIST data set for classification with **GD,SGD,Batch-GD , Momentum, NAG , ADAGrad , RMSProp,ADAM**"
      ],
      "metadata": {
        "id": "x-uDoQBTQNDs"
      }
    },
    {
      "cell_type": "code",
      "source": [
        "import numpy as np\n",
        "from tqdm import tqdm"
      ],
      "metadata": {
        "id": "pTl-fLgsU23C"
      },
      "execution_count": 2,
      "outputs": []
    },
    {
      "cell_type": "code",
      "source": [
        "import tensorflow as tf\n",
        "from tensorflow import keras\n",
        "import matplotlib.pyplot as plt\n",
        "\n",
        "fashion_mnist = keras.datasets.fashion_mnist\n",
        "(X_train, y_train), (X_test, y_test) = fashion_mnist.load_data()\n",
        "\n",
        "#convert the vector of class indices into a matrix containing a one-hot vector for each instance\n",
        "num_classes = 10\n",
        "class_names = [\"T-shirt/top\", \"Trouser\", \"Pullover\", \"Dress\", \"Coat\",\n",
        "               \"Sandal\", \"Shirt\", \"Sneaker\", \"Bag\", \"Ankle boot\"]\n",
        "\n",
        "     "
      ],
      "metadata": {
        "id": "Nf4VqQ7hQ9jw"
      },
      "execution_count": 59,
      "outputs": []
    },
    {
      "cell_type": "code",
      "source": [
        "# Sample dataset\n",
        "class_labels =[]\n",
        "n_rows = 1\n",
        "n_cols = 10\n",
        "plt.figure(figsize=(n_cols * 1.2, n_rows * 1.2))\n",
        "index = 0\n",
        "while (True):\n",
        "  if y_train[index] not in class_labels:\n",
        "    plt.subplot(n_rows, n_cols, len(class_labels)+1)\n",
        "    plt.imshow(X_train[index], cmap=\"binary\", interpolation=\"nearest\")\n",
        "    plt.axis('off')\n",
        "    plt.title(class_names[y_train[index]], fontsize=12)\n",
        "    class_labels.append(y_train[index])\n",
        "  if(len(class_labels)==10):\n",
        "    break\n",
        "  index=index+1\n",
        "plt.subplots_adjust(wspace=0.2, hspace=0.5)\n",
        "plt.show()"
      ],
      "metadata": {
        "colab": {
          "base_uri": "https://localhost:8080/",
          "height": 138
        },
        "id": "uoDn6R6ZS-eL",
        "outputId": "29a6c82a-f96b-44c5-922e-d9d1817c9761"
      },
      "execution_count": 60,
      "outputs": [
        {
          "output_type": "display_data",
          "data": {
            "text/plain": [
              "<Figure size 1200x120 with 10 Axes>"
            ],
            "image/png": "[encoded data removed]"
          },
          "metadata": {}
        }
      ]
    },
    {
      "cell_type": "code",
      "source": [
        "#Split the full training set into a validation set and a (smaller) training set. \n",
        "#We also scale the pixel intensities down to the 0-1 range and convert them to floats, by dividing by 255.\n",
        "\n",
        "X_train = X_train.reshape(X_train.shape[0], -1) / 255\n",
        "X_test = X_test.reshape(X_test.shape[0], -1) / 255\n",
        "\n",
        "y_train = np.eye(10)[y_train]\n",
        "y_test = np.eye(10)[y_test]"
      ],
      "metadata": {
        "id": "91dfmpPROdIz"
      },
      "execution_count": 61,
      "outputs": []
    },
    {
      "cell_type": "code",
      "source": [
        "class PCA:\n",
        "    def __init__(self, n_components: int) -> None:\n",
        "        self.n_components = n_components\n",
        "        self.components = None\n",
        "    \n",
        "    def fit(self, X) -> None:\n",
        "        # fit the PCA model\n",
        "        cov_matrix = np.cov(X,rowvar=False)\n",
        "        eignvals, eignvecs = np.linalg.eigh(cov_matrix)\n",
        "        eignvecs = eignvecs[:, ::-1]\n",
        "        self.components = eignvecs[:, :self.n_components]\n",
        "        \n",
        "    def transform(self, X) -> np.ndarray:\n",
        "        # transform the data\n",
        "        transformed_X = np.dot(X, self.components)\n",
        "        return transformed_X\n",
        "\n",
        "    def fit_transform(self, X) -> np.ndarray:\n",
        "        # fit the model and transform the data\n",
        "        self.fit(X)\n",
        "        return self.transform(X)"
      ],
      "metadata": {
        "id": "ZrQmk9s19Wvr"
      },
      "execution_count": 62,
      "outputs": []
    },
    {
      "cell_type": "code",
      "source": [
        "from sklearn.preprocessing import StandardScaler\n",
        "X_train = StandardScaler().fit_transform(X_train)\n",
        "X_test = StandardScaler().fit_transform(X_test)"
      ],
      "metadata": {
        "id": "B2nuhV3U_k0p"
      },
      "execution_count": 63,
      "outputs": []
    },
    {
      "cell_type": "code",
      "source": [
        "pca = PCA(n_components=100)\n",
        "X_train = pca.fit_transform(X_train)\n",
        "X_test = pca.transform(X_test)"
      ],
      "metadata": {
        "id": "of-6GVXx-NMb"
      },
      "execution_count": 64,
      "outputs": []
    },
    {
      "cell_type": "code",
      "source": [
        "class Layer:\n",
        "  def __init__(self,num_of_inputs,num_of_neurons,activation):\n",
        "    self.num_of_inputs = num_of_inputs\n",
        "    self.num_of_neurons = num_of_neurons\n",
        "    self.activations = activation\n",
        "    np.random.seed(1234)\n",
        "    self.W = np.random.randn(num_of_neurons,num_of_inputs)\n",
        "    self.b = np.random.randn(num_of_neurons)\n",
        "\n",
        "  def activation(self,input):\n",
        "    if(self.activations=='ReLu'):\n",
        "      return np.maximum(0,input)\n",
        "    elif(self.activations==\"sigmoid\"):\n",
        "      return 1/(1+np.exp(-input))\n",
        "    elif(self.activations==\"softmax\"):\n",
        "      max = np.max(input, axis = 1, keepdims=True)\n",
        "      input -= max\n",
        "      return(np.exp(input)/np.sum(np.exp(input), axis=1, keepdims=True))\n",
        "    elif(self.activations==\"tanh\"):\n",
        "      return np.tanh(input)\n",
        "  \n",
        "  def gradient_activation(self,input):\n",
        "    if(self.activations=='ReLu'):\n",
        "      return 1*(input>0)\n",
        "    elif(self.activations==\"sigmoid\"):\n",
        "      return (self.activation(input)*(1-self.activation(input)))\n",
        "    elif(self.activations==\"tanh\"):\n",
        "      return (1 - np.square(self.activation(input)))\n",
        "  \n",
        "  def forward(self,prev_H):\n",
        "    bias = self.b.reshape(-1,1)\n",
        "    self.A = np.dot(self.W,prev_H.T) + bias\n",
        "    self.A = self.A.T\n",
        "    self.H = self.activation(self.A)\n",
        "    return self.H\n",
        "  \n",
        "  def backward(self,grad_A,prev_H,prev_A,gradient_activation):\n",
        "    self.dW = np.dot(grad_A.T,prev_H)\n",
        "    self.db = np.sum(grad_A, axis=0)\n",
        "    grad_prev_H = np.dot(grad_A,self.W)\n",
        "    derivative = gradient_activation(prev_A)\n",
        "    grad_prev_A = grad_prev_H * derivative\n",
        "    return grad_prev_A"
      ],
      "metadata": {
        "id": "nz9JpKkg9XDB"
      },
      "execution_count": 65,
      "outputs": []
    },
    {
      "cell_type": "code",
      "source": [
        "from re import I\n",
        "class Network:\n",
        "  def __init__(self,num_of_inputs,num_of_hidden_layers,num_of_classes,num_of_neurons,activation):\n",
        "    self.num_of_inputs = num_of_inputs\n",
        "    self.num_of_hidden_layers = num_of_hidden_layers\n",
        "    self.num_of_classes = num_of_classes\n",
        "    self.num_of_neurons = num_of_neurons\n",
        "    self.activation = activation\n",
        "    self.Layers = []\n",
        "    self.Layers.append(Layer(self.num_of_inputs,self.num_of_neurons,activation))\n",
        "    for i in range(num_of_hidden_layers-1):\n",
        "      self.Layers.append(Layer(self.num_of_neurons,self.num_of_neurons,\"ReLu\"))\n",
        "    self.Layers.append(Layer(self.num_of_neurons,self.num_of_classes,\"softmax\"))\n",
        "  \n",
        "  def forward(self,inputs):\n",
        "    self.inputs = inputs\n",
        "    current_input = inputs\n",
        "    for i in range(self.num_of_hidden_layers+1):\n",
        "      current_ouput = self.Layers[i].forward(current_input)\n",
        "      current_input = current_ouput\n",
        "    self.y_pred = current_input\n",
        "    return current_input\n",
        "  \n",
        "  def backward(self,outputs):\n",
        "    grad_A = self.y_pred - outputs\n",
        "    for i in range(self.num_of_hidden_layers, 0, -1):\n",
        "      grad_A = self.Layers[i].backward(grad_A,self.Layers[i-1].H,self.Layers[i-1].A,self.Layers[i-1].gradient_activation)\n",
        "    self.Layers[0].dW = np.dot(grad_A.T,self.inputs)\n",
        "    self.Layers[0].db = np.sum(grad_A, axis=0)\n",
        "\n",
        "  def miniBatchGrad(self,dW,db,learning_rate):\n",
        "    for i in range(self.num_of_hidden_layers+1):\n",
        "      self.Layers[i].W -= learning_rate*dW[i]\n",
        "      self.Layers[i].b -= learning_rate*db[i]\n",
        "\n",
        "  def momentumGrad(self,tW,tb,dW,db,learning_rate,momentum_rate):\n",
        "    for i in range(self.num_of_hidden_layers+1):\n",
        "      tW[i] = momentum_rate*tW[i] + learning_rate*dW[i]\n",
        "      tb[i] = momentum_rate*tb[i] + learning_rate*db[i]\n",
        "      self.Layers[i].W -= tW[i]\n",
        "      self.Layers[i].b -= tb[i]\n",
        "    return tW,tb\n",
        "  \n",
        "  def NAGrad(self,tW,tb,dW,db,learning_rate,momentum_rate):\n",
        "    for i in range(self.num_of_hidden_layers+1):\n",
        "      tW[i] = momentum_rate*tW[i] + dW[i]\n",
        "      tb[i] = momentum_rate*tb[i] + db[i]\n",
        "      self.Layers[i].W -= learning_rate*(momentum_rate*tW[i] + dW[i])\n",
        "      self.Layers[i].b -= learning_rate*(momentum_rate*tb[i] + db[i])\n",
        "    return tW,tb\n",
        "\n",
        "  def AdaGrad(self,vW,vb,dW,db,learning_rate,epsilon=1e-8):\n",
        "    for i in range(self.num_of_hidden_layers+1):\n",
        "      vW[i] = vW[i] + dW[i]**2\n",
        "      vb[i] = vb[i] + db[i]**2\n",
        "      constantW = learning_rate / np.sqrt(vW[i] + epsilon)\n",
        "      constantb = learning_rate / np.sqrt(vb[i] + epsilon)\n",
        "      self.Layers[i].W -= constantW * dW[i]\n",
        "      self.Layers[i].b -= constantb * db[i]\n",
        "    return vW,vb\n",
        "\n",
        "  def RmsProp(self,vW,vb,dW,db,learning_rate,epsilon=1e-8,beta = 0.9):\n",
        "    for i in range(self.num_of_hidden_layers+1):\n",
        "      vW[i] = beta*vW[i] + (1-beta)*dW[i]**2\n",
        "      vb[i] = beta*vb[i] + (1-beta)*db[i]**2\n",
        "      constantW = learning_rate / np.sqrt(vW[i] + epsilon)\n",
        "      constantb = learning_rate / np.sqrt(vb[i] + epsilon)\n",
        "      self.Layers[i].W -= constantW * dW[i]\n",
        "      self.Layers[i].b -= constantb * db[i]\n",
        "    return vW,vb\n",
        "  \n",
        "  def AdamGrad(self,vW,vb,tW,tb,dW,db,learning_rate,time,epsilon=1e-8,beta1=0.9 , beta2 = 0.999):\n",
        "    for i in range(self.num_of_hidden_layers+1):\n",
        "      tW[i] = beta1*tW[i] + (1-beta1)*dW[i]\n",
        "      tb[i] = beta1*tb[i] + (1-beta1)*db[i]\n",
        "      vW[i] = beta2*vW[i] + (1-beta2)*dW[i]**2\n",
        "      vb[i] = beta2*vb[i] + (1-beta2)*db[i]**2\n",
        "      tW_hat = tW[i]/(1-beta1**time)\n",
        "      tb_hat = tb[i]/(1-beta1**time)\n",
        "      vW_hat = vW[i]/(1-beta2**time)\n",
        "      vb_hat = vb[i]/(1-beta2**time)\n",
        "      self.Layers[i].W -= learning_rate*tW_hat/(np.sqrt(vW_hat)+epsilon)\n",
        "      self.Layers[i].b -= learning_rate*tb_hat/(np.sqrt(vb_hat)+epsilon)\n",
        "    return tW, tb, vW, vb           \n",
        "    \n",
        "\n",
        "\n",
        "  def crossEntropy(self, y_pred, y_true):\n",
        "    return -np.sum(y_true*np.log(y_pred + 1e-9))/y_pred.shape[0]\n",
        "\n",
        "  def test(self, X_test, y_test):\n",
        "    self.forward(X_test)\n",
        "    y_pred = self.Layers[-1].H\n",
        "    loss = self.crossEntropy(y_pred, y_test)\n",
        "    y_pred = np.argmax(y_pred, axis=1)\n",
        "    y_test = np.argmax(y_test, axis=1)\n",
        "\n",
        "    return round((np.sum(y_pred == y_test)/y_test.shape[0])*100,4), round(loss,4)\n",
        "\n",
        "  \n",
        "  def train(self,X_train,y_train,X_test,y_test,num_of_epochs,learning_rate,batch_size,opitimizer_fun,momentum_rate=0.9,epislon = 1e-08):\n",
        "    train_accs= []\n",
        "    train_losses= []\n",
        "    test_accs = []\n",
        "    test_losses = []\n",
        "    epoch =1 \n",
        "    while(epoch<=num_of_epochs):\n",
        "      tW = [np.zeros_like(self.Layers[j].W) for j in range(self.num_of_hidden_layers+1)]\n",
        "      tb = [np.zeros_like(self.Layers[j].b) for j in range(self.num_of_hidden_layers+1)]\n",
        "      vW = [np.zeros_like(self.Layers[j].W) for j in range(self.num_of_hidden_layers+1)]\n",
        "      vb = [np.zeros_like(self.Layers[j].b) for j in range(self.num_of_hidden_layers+1)]\n",
        "      time = 1\n",
        "      for i in tqdm(range(0, X_train.shape[0], batch_size)):   \n",
        "        x = X_train[i:i+batch_size]\n",
        "        y = y_train[i:i+batch_size]\n",
        "        self.forward(x)\n",
        "        self.backward(y)\n",
        "        dW = [self.Layers[j].dW / X_train.shape[0] for j in range(self.num_of_hidden_layers+1)]\n",
        "        db = [self.Layers[j].db / X_train.shape[0] for j in range(self.num_of_hidden_layers+1)]\n",
        "        if(opitimizer_fun == \"miniBatchGrad\"):\n",
        "          self.miniBatchGrad(dW, db, learning_rate)\n",
        "        elif(opitimizer_fun == \"momentumGrad\"):\n",
        "          tW,tb = self.momentumGrad(tW, tb,dW, db, learning_rate, momentum_rate)\n",
        "        elif(opitimizer_fun == \"NAGrad\"):\n",
        "          tW,tb = self.NAGrad(tW, tb,dW, db,learning_rate, momentum_rate)\n",
        "        elif(opitimizer_fun ==\"AdaGrad\"):\n",
        "          vW,vb = self.AdaGrad(vW,vb,dW,db,learning_rate)\n",
        "        elif(opitimizer_fun ==\"RmsProp\"):\n",
        "          vW,vb = self.RmsProp(vW,vb,dW,db,learning_rate)\n",
        "        elif(opitimizer_fun ==\"AdamGrad\"):\n",
        "          tW,tb,vW,vb = self.AdamGrad(vW,vb,tW,tb,dW,db,learning_rate,time)\n",
        "        time=time+1\n",
        "      train_acc, train_loss = self.test(X_train, y_train)\n",
        "      test_acc, test_loss = self.test(X_test, y_test)\n",
        "      train_accs.append(train_acc)\n",
        "      train_losses.append(train_loss)\n",
        "      test_accs.append(test_acc)\n",
        "      test_losses.append(test_loss)\n",
        "      print(f\"Epoch : {epoch}  train_acc : {train_acc} train_loss : {train_loss} test_acc : {test_acc} test_loss : {test_loss}\")\n",
        "      epoch = epoch+1\n",
        "      if(epoch%3==0):\n",
        "        learning_rate = learning_rate/2\n",
        "    return train_accs,train_losses,test_accs,test_losses"
      ],
      "metadata": {
        "id": "ZeFdheJ-CbOq"
      },
      "execution_count": 73,
      "outputs": []
    },
    {
      "cell_type": "code",
      "source": [
        "num_of_inputs=100\n",
        "num_of_hidden_layers= 4\n",
        "num_of_classes = 10\n",
        "num_of_neurons = 128\n",
        "activation = \"sigmoid\"\n",
        "nn = Network(num_of_inputs,num_of_hidden_layers,num_of_classes,num_of_neurons,activation)\n",
        "num_of_epochs= 20\n",
        "learning_rate = 1e-2\n",
        "batch_size = 32\n",
        "opitimizer_fun = \"miniBatchGrad\"\n",
        "train_accs1,train_losses1,test_accs1,test_losses1=nn.train(X_train,y_train,X_test,y_test,num_of_epochs,learning_rate,batch_size,opitimizer_fun)"
      ],
      "metadata": {
        "id": "CywJVikHM-32",
        "colab": {
          "base_uri": "https://localhost:8080/"
        },
        "outputId": "43182398-6188-493f-8b39-6cd0aeb1e55f"
      },
      "execution_count": 77,
      "outputs": [
        {
          "output_type": "stream",
          "name": "stderr",
          "text": [
            "  8%|▊         | 157/1875 [00:00<00:06, 256.27it/s]<ipython-input-65-23e4a3d8067c>:14: RuntimeWarning: overflow encountered in exp\n",
            "  return 1/(1+np.exp(-input))\n",
            "100%|██████████| 1875/1875 [00:05<00:00, 321.21it/s]\n"
          ]
        },
        {
          "output_type": "stream",
          "name": "stdout",
          "text": [
            "Epoch : 1  train_acc : 51.885 train_loss : 9.9302 test_acc : 51.56 test_loss : 10.0008\n"
          ]
        },
        {
          "output_type": "stream",
          "name": "stderr",
          "text": [
            "100%|██████████| 1875/1875 [00:04<00:00, 407.71it/s]\n"
          ]
        },
        {
          "output_type": "stream",
          "name": "stdout",
          "text": [
            "Epoch : 2  train_acc : 59.955 train_loss : 8.2483 test_acc : 59.3 test_loss : 8.3854\n"
          ]
        },
        {
          "output_type": "stream",
          "name": "stderr",
          "text": [
            "100%|██████████| 1875/1875 [00:06<00:00, 304.22it/s]\n"
          ]
        },
        {
          "output_type": "stream",
          "name": "stdout",
          "text": [
            "Epoch : 3  train_acc : 61.9667 train_loss : 7.8289 test_acc : 61.19 test_loss : 7.9976\n"
          ]
        },
        {
          "output_type": "stream",
          "name": "stderr",
          "text": [
            "100%|██████████| 1875/1875 [00:04<00:00, 400.98it/s]\n"
          ]
        },
        {
          "output_type": "stream",
          "name": "stdout",
          "text": [
            "Epoch : 4  train_acc : 63.4333 train_loss : 7.5274 test_acc : 62.33 test_loss : 7.7569\n"
          ]
        },
        {
          "output_type": "stream",
          "name": "stderr",
          "text": [
            "100%|██████████| 1875/1875 [00:07<00:00, 250.15it/s]\n"
          ]
        },
        {
          "output_type": "stream",
          "name": "stdout",
          "text": [
            "Epoch : 5  train_acc : 64.4417 train_loss : 7.3095 test_acc : 63.58 test_loss : 7.4758\n"
          ]
        },
        {
          "output_type": "stream",
          "name": "stderr",
          "text": [
            "100%|██████████| 1875/1875 [00:09<00:00, 203.95it/s]\n"
          ]
        },
        {
          "output_type": "stream",
          "name": "stdout",
          "text": [
            "Epoch : 6  train_acc : 64.81 train_loss : 7.2273 test_acc : 64.14 test_loss : 7.3796\n"
          ]
        },
        {
          "output_type": "stream",
          "name": "stderr",
          "text": [
            "100%|██████████| 1875/1875 [00:06<00:00, 295.02it/s]\n"
          ]
        },
        {
          "output_type": "stream",
          "name": "stdout",
          "text": [
            "Epoch : 7  train_acc : 65.2483 train_loss : 7.1434 test_acc : 64.48 test_loss : 7.2906\n"
          ]
        },
        {
          "output_type": "stream",
          "name": "stderr",
          "text": [
            "100%|██████████| 1875/1875 [00:06<00:00, 299.78it/s]\n"
          ]
        },
        {
          "output_type": "stream",
          "name": "stdout",
          "text": [
            "Epoch : 8  train_acc : 65.58 train_loss : 7.073 test_acc : 64.84 test_loss : 7.2302\n"
          ]
        },
        {
          "output_type": "stream",
          "name": "stderr",
          "text": [
            "100%|██████████| 1875/1875 [00:04<00:00, 400.09it/s]\n"
          ]
        },
        {
          "output_type": "stream",
          "name": "stdout",
          "text": [
            "Epoch : 9  train_acc : 65.72 train_loss : 7.0384 test_acc : 64.95 test_loss : 7.2049\n"
          ]
        },
        {
          "output_type": "stream",
          "name": "stderr",
          "text": [
            "100%|██████████| 1875/1875 [00:06<00:00, 284.12it/s]\n"
          ]
        },
        {
          "output_type": "stream",
          "name": "stdout",
          "text": [
            "Epoch : 10  train_acc : 65.9467 train_loss : 6.9944 test_acc : 65.16 test_loss : 7.1737\n"
          ]
        },
        {
          "output_type": "stream",
          "name": "stderr",
          "text": [
            "100%|██████████| 1875/1875 [00:10<00:00, 173.15it/s]\n"
          ]
        },
        {
          "output_type": "stream",
          "name": "stdout",
          "text": [
            "Epoch : 11  train_acc : 66.145 train_loss : 6.9551 test_acc : 65.24 test_loss : 7.148\n"
          ]
        },
        {
          "output_type": "stream",
          "name": "stderr",
          "text": [
            "100%|██████████| 1875/1875 [00:05<00:00, 333.77it/s]\n"
          ]
        },
        {
          "output_type": "stream",
          "name": "stdout",
          "text": [
            "Epoch : 12  train_acc : 66.2233 train_loss : 6.9422 test_acc : 65.3 test_loss : 7.1443\n"
          ]
        },
        {
          "output_type": "stream",
          "name": "stderr",
          "text": [
            "100%|██████████| 1875/1875 [00:11<00:00, 162.21it/s]\n"
          ]
        },
        {
          "output_type": "stream",
          "name": "stdout",
          "text": [
            "Epoch : 13  train_acc : 66.29 train_loss : 6.9269 test_acc : 65.38 test_loss : 7.133\n"
          ]
        },
        {
          "output_type": "stream",
          "name": "stderr",
          "text": [
            "100%|██████████| 1875/1875 [00:06<00:00, 275.32it/s]\n"
          ]
        },
        {
          "output_type": "stream",
          "name": "stdout",
          "text": [
            "Epoch : 14  train_acc : 66.355 train_loss : 6.9091 test_acc : 65.38 test_loss : 7.1208\n"
          ]
        },
        {
          "output_type": "stream",
          "name": "stderr",
          "text": [
            "100%|██████████| 1875/1875 [00:04<00:00, 398.09it/s]\n"
          ]
        },
        {
          "output_type": "stream",
          "name": "stdout",
          "text": [
            "Epoch : 15  train_acc : 66.3983 train_loss : 6.9004 test_acc : 65.42 test_loss : 7.1142\n"
          ]
        },
        {
          "output_type": "stream",
          "name": "stderr",
          "text": [
            "100%|██████████| 1875/1875 [00:06<00:00, 299.63it/s]\n"
          ]
        },
        {
          "output_type": "stream",
          "name": "stdout",
          "text": [
            "Epoch : 16  train_acc : 66.4383 train_loss : 6.8912 test_acc : 65.45 test_loss : 7.1061\n"
          ]
        },
        {
          "output_type": "stream",
          "name": "stderr",
          "text": [
            "100%|██████████| 1875/1875 [00:04<00:00, 391.13it/s]\n"
          ]
        },
        {
          "output_type": "stream",
          "name": "stdout",
          "text": [
            "Epoch : 17  train_acc : 66.4717 train_loss : 6.8813 test_acc : 65.47 test_loss : 7.0971\n"
          ]
        },
        {
          "output_type": "stream",
          "name": "stderr",
          "text": [
            "100%|██████████| 1875/1875 [00:06<00:00, 290.43it/s]\n"
          ]
        },
        {
          "output_type": "stream",
          "name": "stdout",
          "text": [
            "Epoch : 18  train_acc : 66.48 train_loss : 6.8772 test_acc : 65.48 test_loss : 7.0941\n"
          ]
        },
        {
          "output_type": "stream",
          "name": "stderr",
          "text": [
            "100%|██████████| 1875/1875 [00:04<00:00, 394.74it/s]\n"
          ]
        },
        {
          "output_type": "stream",
          "name": "stdout",
          "text": [
            "Epoch : 19  train_acc : 66.5 train_loss : 6.8722 test_acc : 65.46 test_loss : 7.0902\n"
          ]
        },
        {
          "output_type": "stream",
          "name": "stderr",
          "text": [
            "100%|██████████| 1875/1875 [00:06<00:00, 309.88it/s]\n"
          ]
        },
        {
          "output_type": "stream",
          "name": "stdout",
          "text": [
            "Epoch : 20  train_acc : 66.5267 train_loss : 6.8672 test_acc : 65.48 test_loss : 7.0866\n"
          ]
        }
      ]
    },
    {
      "cell_type": "code",
      "source": [
        "num_of_inputs=100\n",
        "num_of_hidden_layers= 4\n",
        "num_of_classes = 10\n",
        "num_of_neurons = 128\n",
        "activation = \"sigmoid\"\n",
        "nn = Network(num_of_inputs,num_of_hidden_layers,num_of_classes,num_of_neurons,activation)\n",
        "num_of_epochs= 20\n",
        "learning_rate = 1e-2\n",
        "batch_size = 32\n",
        "opitimizer_fun = \"momentumGrad\"\n",
        "train_accs2,train_losses2,test_accs2,test_losses2=nn.train(X_train,y_train,X_test,y_test,num_of_epochs,learning_rate,batch_size,opitimizer_fun)"
      ],
      "metadata": {
        "colab": {
          "base_uri": "https://localhost:8080/"
        },
        "id": "EYfpjUsohBAM",
        "outputId": "8a4f2e0c-7a19-4666-cddf-c7a75a3e79d3"
      },
      "execution_count": 76,
      "outputs": [
        {
          "output_type": "stream",
          "name": "stderr",
          "text": [
            "  8%|▊         | 150/1875 [00:00<00:10, 158.94it/s]<ipython-input-65-23e4a3d8067c>:14: RuntimeWarning: overflow encountered in exp\n",
            "  return 1/(1+np.exp(-input))\n",
            "100%|██████████| 1875/1875 [00:07<00:00, 243.79it/s]\n"
          ]
        },
        {
          "output_type": "stream",
          "name": "stdout",
          "text": [
            "Epoch : 1  train_acc : 69.6683 train_loss : 6.218 test_acc : 68.79 test_loss : 6.407\n"
          ]
        },
        {
          "output_type": "stream",
          "name": "stderr",
          "text": [
            "100%|██████████| 1875/1875 [00:06<00:00, 298.19it/s]\n"
          ]
        },
        {
          "output_type": "stream",
          "name": "stdout",
          "text": [
            "Epoch : 2  train_acc : 72.0683 train_loss : 5.7008 test_acc : 70.6 test_loss : 6.0016\n"
          ]
        },
        {
          "output_type": "stream",
          "name": "stderr",
          "text": [
            "100%|██████████| 1875/1875 [00:05<00:00, 351.21it/s]\n"
          ]
        },
        {
          "output_type": "stream",
          "name": "stdout",
          "text": [
            "Epoch : 3  train_acc : 72.7367 train_loss : 5.538 test_acc : 70.93 test_loss : 5.9231\n"
          ]
        },
        {
          "output_type": "stream",
          "name": "stderr",
          "text": [
            "100%|██████████| 1875/1875 [00:06<00:00, 277.62it/s]\n"
          ]
        },
        {
          "output_type": "stream",
          "name": "stdout",
          "text": [
            "Epoch : 4  train_acc : 73.4417 train_loss : 5.3876 test_acc : 71.44 test_loss : 5.8061\n"
          ]
        },
        {
          "output_type": "stream",
          "name": "stderr",
          "text": [
            "100%|██████████| 1875/1875 [00:05<00:00, 348.17it/s]\n"
          ]
        },
        {
          "output_type": "stream",
          "name": "stdout",
          "text": [
            "Epoch : 5  train_acc : 74.0417 train_loss : 5.2378 test_acc : 72.09 test_loss : 5.6835\n"
          ]
        },
        {
          "output_type": "stream",
          "name": "stderr",
          "text": [
            "100%|██████████| 1875/1875 [00:06<00:00, 278.45it/s]\n"
          ]
        },
        {
          "output_type": "stream",
          "name": "stdout",
          "text": [
            "Epoch : 6  train_acc : 74.3017 train_loss : 5.1846 test_acc : 72.39 test_loss : 5.6175\n"
          ]
        },
        {
          "output_type": "stream",
          "name": "stderr",
          "text": [
            "100%|██████████| 1875/1875 [00:05<00:00, 353.71it/s]\n"
          ]
        },
        {
          "output_type": "stream",
          "name": "stdout",
          "text": [
            "Epoch : 7  train_acc : 74.4367 train_loss : 5.1496 test_acc : 72.48 test_loss : 5.604\n"
          ]
        },
        {
          "output_type": "stream",
          "name": "stderr",
          "text": [
            "100%|██████████| 1875/1875 [00:06<00:00, 279.90it/s]\n"
          ]
        },
        {
          "output_type": "stream",
          "name": "stdout",
          "text": [
            "Epoch : 8  train_acc : 74.645 train_loss : 5.1054 test_acc : 72.5 test_loss : 5.5632\n"
          ]
        },
        {
          "output_type": "stream",
          "name": "stderr",
          "text": [
            "100%|██████████| 1875/1875 [00:05<00:00, 353.73it/s]\n"
          ]
        },
        {
          "output_type": "stream",
          "name": "stdout",
          "text": [
            "Epoch : 9  train_acc : 74.6033 train_loss : 5.1126 test_acc : 72.4 test_loss : 5.5952\n"
          ]
        },
        {
          "output_type": "stream",
          "name": "stderr",
          "text": [
            "100%|██████████| 1875/1875 [00:06<00:00, 277.23it/s]\n"
          ]
        },
        {
          "output_type": "stream",
          "name": "stdout",
          "text": [
            "Epoch : 10  train_acc : 74.6933 train_loss : 5.0918 test_acc : 72.34 test_loss : 5.5909\n"
          ]
        },
        {
          "output_type": "stream",
          "name": "stderr",
          "text": [
            "100%|██████████| 1875/1875 [00:05<00:00, 355.66it/s]\n"
          ]
        },
        {
          "output_type": "stream",
          "name": "stdout",
          "text": [
            "Epoch : 11  train_acc : 74.6967 train_loss : 5.079 test_acc : 72.32 test_loss : 5.59\n"
          ]
        },
        {
          "output_type": "stream",
          "name": "stderr",
          "text": [
            "100%|██████████| 1875/1875 [00:06<00:00, 295.57it/s]\n"
          ]
        },
        {
          "output_type": "stream",
          "name": "stdout",
          "text": [
            "Epoch : 12  train_acc : 74.7133 train_loss : 5.0771 test_acc : 72.17 test_loss : 5.6048\n"
          ]
        },
        {
          "output_type": "stream",
          "name": "stderr",
          "text": [
            "100%|██████████| 1875/1875 [00:09<00:00, 206.73it/s]\n"
          ]
        },
        {
          "output_type": "stream",
          "name": "stdout",
          "text": [
            "Epoch : 13  train_acc : 74.7317 train_loss : 5.0696 test_acc : 72.18 test_loss : 5.6047\n"
          ]
        },
        {
          "output_type": "stream",
          "name": "stderr",
          "text": [
            "100%|██████████| 1875/1875 [00:08<00:00, 224.75it/s]\n"
          ]
        },
        {
          "output_type": "stream",
          "name": "stdout",
          "text": [
            "Epoch : 14  train_acc : 74.7683 train_loss : 5.0599 test_acc : 72.2 test_loss : 5.6067\n"
          ]
        },
        {
          "output_type": "stream",
          "name": "stderr",
          "text": [
            "100%|██████████| 1875/1875 [00:07<00:00, 260.69it/s]\n"
          ]
        },
        {
          "output_type": "stream",
          "name": "stdout",
          "text": [
            "Epoch : 15  train_acc : 74.78 train_loss : 5.0537 test_acc : 72.21 test_loss : 5.6148\n"
          ]
        },
        {
          "output_type": "stream",
          "name": "stderr",
          "text": [
            "100%|██████████| 1875/1875 [00:06<00:00, 274.73it/s]\n"
          ]
        },
        {
          "output_type": "stream",
          "name": "stdout",
          "text": [
            "Epoch : 16  train_acc : 74.785 train_loss : 5.0492 test_acc : 72.24 test_loss : 5.6127\n"
          ]
        },
        {
          "output_type": "stream",
          "name": "stderr",
          "text": [
            "100%|██████████| 1875/1875 [00:05<00:00, 349.06it/s]\n"
          ]
        },
        {
          "output_type": "stream",
          "name": "stdout",
          "text": [
            "Epoch : 17  train_acc : 74.7817 train_loss : 5.0451 test_acc : 72.26 test_loss : 5.608\n"
          ]
        },
        {
          "output_type": "stream",
          "name": "stderr",
          "text": [
            "100%|██████████| 1875/1875 [00:11<00:00, 165.32it/s]\n"
          ]
        },
        {
          "output_type": "stream",
          "name": "stdout",
          "text": [
            "Epoch : 18  train_acc : 74.7733 train_loss : 5.0408 test_acc : 72.23 test_loss : 5.6037\n"
          ]
        },
        {
          "output_type": "stream",
          "name": "stderr",
          "text": [
            "100%|██████████| 1875/1875 [00:10<00:00, 177.07it/s]\n"
          ]
        },
        {
          "output_type": "stream",
          "name": "stdout",
          "text": [
            "Epoch : 19  train_acc : 74.775 train_loss : 5.0381 test_acc : 72.22 test_loss : 5.6006\n"
          ]
        },
        {
          "output_type": "stream",
          "name": "stderr",
          "text": [
            "100%|██████████| 1875/1875 [00:11<00:00, 160.32it/s]\n"
          ]
        },
        {
          "output_type": "stream",
          "name": "stdout",
          "text": [
            "Epoch : 20  train_acc : 74.775 train_loss : 5.0357 test_acc : 72.26 test_loss : 5.5977\n"
          ]
        }
      ]
    },
    {
      "cell_type": "code",
      "source": [
        "num_of_inputs=100\n",
        "num_of_hidden_layers= 4\n",
        "num_of_classes = 10\n",
        "num_of_neurons = 128\n",
        "activation = \"sigmoid\"\n",
        "nn = Network(num_of_inputs,num_of_hidden_layers,num_of_classes,num_of_neurons,activation)\n",
        "num_of_epochs= 20\n",
        "learning_rate = 1e-2\n",
        "batch_size = 32\n",
        "opitimizer_fun = \"AdaGrad\"\n",
        "train_accs3,train_losses3,test_accs3,test_losses3=nn.train(X_train,y_train,X_test,y_test,num_of_epochs,learning_rate,batch_size,opitimizer_fun)"
      ],
      "metadata": {
        "colab": {
          "base_uri": "https://localhost:8080/"
        },
        "id": "c88zjuCQmW2x",
        "outputId": "bf7f3dc3-64fe-4c5e-c3c2-c58fc1df9db1"
      },
      "execution_count": 70,
      "outputs": [
        {
          "output_type": "stream",
          "name": "stderr",
          "text": [
            "  7%|▋         | 123/1875 [00:00<00:04, 371.96it/s]<ipython-input-65-23e4a3d8067c>:14: RuntimeWarning: overflow encountered in exp\n",
            "  return 1/(1+np.exp(-input))\n",
            "100%|██████████| 1875/1875 [00:07<00:00, 264.07it/s]\n"
          ]
        },
        {
          "output_type": "stream",
          "name": "stdout",
          "text": [
            "Epoch : 1  train_acc : 71.0183 train_loss : 5.9465 test_acc : 69.44 test_loss : 6.2648\n"
          ]
        },
        {
          "output_type": "stream",
          "name": "stderr",
          "text": [
            "100%|██████████| 1875/1875 [00:05<00:00, 333.08it/s]\n"
          ]
        },
        {
          "output_type": "stream",
          "name": "stdout",
          "text": [
            "Epoch : 2  train_acc : 75.01 train_loss : 5.0899 test_acc : 73.05 test_loss : 5.5218\n"
          ]
        },
        {
          "output_type": "stream",
          "name": "stderr",
          "text": [
            "100%|██████████| 1875/1875 [00:07<00:00, 250.76it/s]\n"
          ]
        },
        {
          "output_type": "stream",
          "name": "stdout",
          "text": [
            "Epoch : 3  train_acc : 76.4733 train_loss : 4.7662 test_acc : 73.95 test_loss : 5.3198\n"
          ]
        },
        {
          "output_type": "stream",
          "name": "stderr",
          "text": [
            "100%|██████████| 1875/1875 [00:06<00:00, 312.14it/s]\n"
          ]
        },
        {
          "output_type": "stream",
          "name": "stdout",
          "text": [
            "Epoch : 4  train_acc : 77.49 train_loss : 4.5597 test_acc : 74.45 test_loss : 5.1982\n"
          ]
        },
        {
          "output_type": "stream",
          "name": "stderr",
          "text": [
            "100%|██████████| 1875/1875 [00:06<00:00, 282.08it/s]\n"
          ]
        },
        {
          "output_type": "stream",
          "name": "stdout",
          "text": [
            "Epoch : 5  train_acc : 78.4283 train_loss : 4.3447 test_acc : 74.62 test_loss : 5.1314\n"
          ]
        },
        {
          "output_type": "stream",
          "name": "stderr",
          "text": [
            "100%|██████████| 1875/1875 [00:07<00:00, 250.26it/s]\n"
          ]
        },
        {
          "output_type": "stream",
          "name": "stdout",
          "text": [
            "Epoch : 6  train_acc : 78.9233 train_loss : 4.2325 test_acc : 74.83 test_loss : 5.1056\n"
          ]
        },
        {
          "output_type": "stream",
          "name": "stderr",
          "text": [
            "100%|██████████| 1875/1875 [00:06<00:00, 306.65it/s]\n"
          ]
        },
        {
          "output_type": "stream",
          "name": "stdout",
          "text": [
            "Epoch : 7  train_acc : 79.27 train_loss : 4.1594 test_acc : 74.98 test_loss : 5.0932\n"
          ]
        },
        {
          "output_type": "stream",
          "name": "stderr",
          "text": [
            "100%|██████████| 1875/1875 [00:07<00:00, 243.37it/s]\n"
          ]
        },
        {
          "output_type": "stream",
          "name": "stdout",
          "text": [
            "Epoch : 8  train_acc : 79.7033 train_loss : 4.0689 test_acc : 74.93 test_loss : 5.0852\n"
          ]
        },
        {
          "output_type": "stream",
          "name": "stderr",
          "text": [
            "100%|██████████| 1875/1875 [00:06<00:00, 311.51it/s]\n"
          ]
        },
        {
          "output_type": "stream",
          "name": "stdout",
          "text": [
            "Epoch : 9  train_acc : 79.88 train_loss : 4.0152 test_acc : 74.92 test_loss : 5.0736\n"
          ]
        },
        {
          "output_type": "stream",
          "name": "stderr",
          "text": [
            "100%|██████████| 1875/1875 [00:06<00:00, 284.43it/s]\n"
          ]
        },
        {
          "output_type": "stream",
          "name": "stdout",
          "text": [
            "Epoch : 10  train_acc : 79.98 train_loss : 3.9884 test_acc : 74.97 test_loss : 5.0695\n"
          ]
        },
        {
          "output_type": "stream",
          "name": "stderr",
          "text": [
            "100%|██████████| 1875/1875 [00:07<00:00, 251.53it/s]\n"
          ]
        },
        {
          "output_type": "stream",
          "name": "stdout",
          "text": [
            "Epoch : 11  train_acc : 80.1583 train_loss : 3.9568 test_acc : 75.05 test_loss : 5.0651\n"
          ]
        },
        {
          "output_type": "stream",
          "name": "stderr",
          "text": [
            "100%|██████████| 1875/1875 [00:06<00:00, 303.68it/s]\n"
          ]
        },
        {
          "output_type": "stream",
          "name": "stdout",
          "text": [
            "Epoch : 12  train_acc : 80.3233 train_loss : 3.9138 test_acc : 75.04 test_loss : 5.0471\n"
          ]
        },
        {
          "output_type": "stream",
          "name": "stderr",
          "text": [
            "100%|██████████| 1875/1875 [00:07<00:00, 238.27it/s]\n"
          ]
        },
        {
          "output_type": "stream",
          "name": "stdout",
          "text": [
            "Epoch : 13  train_acc : 80.39 train_loss : 3.8975 test_acc : 75.07 test_loss : 5.0428\n"
          ]
        },
        {
          "output_type": "stream",
          "name": "stderr",
          "text": [
            "100%|██████████| 1875/1875 [00:06<00:00, 280.39it/s]\n"
          ]
        },
        {
          "output_type": "stream",
          "name": "stdout",
          "text": [
            "Epoch : 14  train_acc : 80.435 train_loss : 3.8769 test_acc : 75.17 test_loss : 5.0276\n"
          ]
        },
        {
          "output_type": "stream",
          "name": "stderr",
          "text": [
            "100%|██████████| 1875/1875 [00:06<00:00, 306.31it/s]\n"
          ]
        },
        {
          "output_type": "stream",
          "name": "stdout",
          "text": [
            "Epoch : 15  train_acc : 80.5 train_loss : 3.8536 test_acc : 75.1 test_loss : 5.0296\n"
          ]
        },
        {
          "output_type": "stream",
          "name": "stderr",
          "text": [
            "100%|██████████| 1875/1875 [00:07<00:00, 243.72it/s]\n"
          ]
        },
        {
          "output_type": "stream",
          "name": "stdout",
          "text": [
            "Epoch : 16  train_acc : 80.5483 train_loss : 3.8473 test_acc : 75.06 test_loss : 5.0348\n"
          ]
        },
        {
          "output_type": "stream",
          "name": "stderr",
          "text": [
            "100%|██████████| 1875/1875 [00:08<00:00, 221.71it/s]\n"
          ]
        },
        {
          "output_type": "stream",
          "name": "stdout",
          "text": [
            "Epoch : 17  train_acc : 80.6033 train_loss : 3.8347 test_acc : 75.06 test_loss : 5.0439\n"
          ]
        },
        {
          "output_type": "stream",
          "name": "stderr",
          "text": [
            "100%|██████████| 1875/1875 [00:09<00:00, 207.30it/s]\n"
          ]
        },
        {
          "output_type": "stream",
          "name": "stdout",
          "text": [
            "Epoch : 18  train_acc : 80.5783 train_loss : 3.8325 test_acc : 75.05 test_loss : 5.0423\n"
          ]
        },
        {
          "output_type": "stream",
          "name": "stderr",
          "text": [
            "100%|██████████| 1875/1875 [00:07<00:00, 262.74it/s]\n"
          ]
        },
        {
          "output_type": "stream",
          "name": "stdout",
          "text": [
            "Epoch : 19  train_acc : 80.6233 train_loss : 3.8262 test_acc : 75.09 test_loss : 5.0407\n"
          ]
        },
        {
          "output_type": "stream",
          "name": "stderr",
          "text": [
            "100%|██████████| 1875/1875 [00:07<00:00, 253.66it/s]\n"
          ]
        },
        {
          "output_type": "stream",
          "name": "stdout",
          "text": [
            "Epoch : 20  train_acc : 80.6417 train_loss : 3.8205 test_acc : 75.07 test_loss : 5.0401\n"
          ]
        }
      ]
    },
    {
      "cell_type": "code",
      "source": [
        "num_of_inputs=100\n",
        "num_of_hidden_layers= 4\n",
        "num_of_classes = 10\n",
        "num_of_neurons = 128\n",
        "activation = \"sigmoid\"\n",
        "nn = Network(num_of_inputs,num_of_hidden_layers,num_of_classes,num_of_neurons,activation)\n",
        "num_of_epochs= 20\n",
        "learning_rate = 1e-2\n",
        "batch_size = 32\n",
        "opitimizer_fun = \"RmsProp\"\n",
        "train_accs4,train_losses4,test_accs4,test_losses4=nn.train(X_train,y_train,X_test,y_test,num_of_epochs,learning_rate,batch_size,opitimizer_fun)"
      ],
      "metadata": {
        "colab": {
          "base_uri": "https://localhost:8080/"
        },
        "id": "qZ68ZR1D2ARl",
        "outputId": "fc9e7c2e-688f-41b4-b5f8-e10fe2b4852f"
      },
      "execution_count": 71,
      "outputs": [
        {
          "output_type": "stream",
          "name": "stderr",
          "text": [
            "  6%|▋         | 120/1875 [00:00<00:04, 387.55it/s]<ipython-input-65-23e4a3d8067c>:14: RuntimeWarning: overflow encountered in exp\n",
            "  return 1/(1+np.exp(-input))\n",
            "100%|██████████| 1875/1875 [00:06<00:00, 301.97it/s]\n"
          ]
        },
        {
          "output_type": "stream",
          "name": "stdout",
          "text": [
            "Epoch : 1  train_acc : 71.1983 train_loss : 1.3398 test_acc : 70.39 test_loss : 1.4439\n"
          ]
        },
        {
          "output_type": "stream",
          "name": "stderr",
          "text": [
            "100%|██████████| 1875/1875 [00:04<00:00, 447.54it/s]\n"
          ]
        },
        {
          "output_type": "stream",
          "name": "stdout",
          "text": [
            "Epoch : 2  train_acc : 79.2933 train_loss : 0.6042 test_acc : 77.56 test_loss : 0.6998\n"
          ]
        },
        {
          "output_type": "stream",
          "name": "stderr",
          "text": [
            "100%|██████████| 1875/1875 [00:05<00:00, 366.46it/s]\n"
          ]
        },
        {
          "output_type": "stream",
          "name": "stdout",
          "text": [
            "Epoch : 3  train_acc : 81.0267 train_loss : 0.5307 test_acc : 79.01 test_loss : 0.6365\n"
          ]
        },
        {
          "output_type": "stream",
          "name": "stderr",
          "text": [
            "100%|██████████| 1875/1875 [00:04<00:00, 452.93it/s]\n"
          ]
        },
        {
          "output_type": "stream",
          "name": "stdout",
          "text": [
            "Epoch : 4  train_acc : 81.5817 train_loss : 0.5164 test_acc : 79.37 test_loss : 0.6269\n"
          ]
        },
        {
          "output_type": "stream",
          "name": "stderr",
          "text": [
            "100%|██████████| 1875/1875 [00:04<00:00, 453.59it/s]\n"
          ]
        },
        {
          "output_type": "stream",
          "name": "stdout",
          "text": [
            "Epoch : 5  train_acc : 81.8867 train_loss : 0.5014 test_acc : 79.37 test_loss : 0.6189\n"
          ]
        },
        {
          "output_type": "stream",
          "name": "stderr",
          "text": [
            "100%|██████████| 1875/1875 [00:05<00:00, 329.73it/s]\n"
          ]
        },
        {
          "output_type": "stream",
          "name": "stdout",
          "text": [
            "Epoch : 6  train_acc : 82.475 train_loss : 0.483 test_acc : 79.96 test_loss : 0.6041\n"
          ]
        },
        {
          "output_type": "stream",
          "name": "stderr",
          "text": [
            "100%|██████████| 1875/1875 [00:04<00:00, 444.22it/s]\n"
          ]
        },
        {
          "output_type": "stream",
          "name": "stdout",
          "text": [
            "Epoch : 7  train_acc : 82.6067 train_loss : 0.4781 test_acc : 79.96 test_loss : 0.6007\n"
          ]
        },
        {
          "output_type": "stream",
          "name": "stderr",
          "text": [
            "100%|██████████| 1875/1875 [00:05<00:00, 324.02it/s]\n"
          ]
        },
        {
          "output_type": "stream",
          "name": "stdout",
          "text": [
            "Epoch : 8  train_acc : 82.8133 train_loss : 0.4721 test_acc : 80.02 test_loss : 0.5961\n"
          ]
        },
        {
          "output_type": "stream",
          "name": "stderr",
          "text": [
            "100%|██████████| 1875/1875 [00:04<00:00, 442.20it/s]\n"
          ]
        },
        {
          "output_type": "stream",
          "name": "stdout",
          "text": [
            "Epoch : 9  train_acc : 83.0367 train_loss : 0.462 test_acc : 80.16 test_loss : 0.5851\n"
          ]
        },
        {
          "output_type": "stream",
          "name": "stderr",
          "text": [
            "100%|██████████| 1875/1875 [00:06<00:00, 293.61it/s]\n"
          ]
        },
        {
          "output_type": "stream",
          "name": "stdout",
          "text": [
            "Epoch : 10  train_acc : 83.1633 train_loss : 0.4592 test_acc : 80.23 test_loss : 0.5833\n"
          ]
        },
        {
          "output_type": "stream",
          "name": "stderr",
          "text": [
            "100%|██████████| 1875/1875 [00:04<00:00, 439.35it/s]\n"
          ]
        },
        {
          "output_type": "stream",
          "name": "stdout",
          "text": [
            "Epoch : 11  train_acc : 83.2417 train_loss : 0.4567 test_acc : 80.26 test_loss : 0.582\n"
          ]
        },
        {
          "output_type": "stream",
          "name": "stderr",
          "text": [
            "100%|██████████| 1875/1875 [00:04<00:00, 384.77it/s]\n"
          ]
        },
        {
          "output_type": "stream",
          "name": "stdout",
          "text": [
            "Epoch : 12  train_acc : 83.3967 train_loss : 0.452 test_acc : 80.48 test_loss : 0.5757\n"
          ]
        },
        {
          "output_type": "stream",
          "name": "stderr",
          "text": [
            "100%|██████████| 1875/1875 [00:04<00:00, 435.21it/s]\n"
          ]
        },
        {
          "output_type": "stream",
          "name": "stdout",
          "text": [
            "Epoch : 13  train_acc : 83.4517 train_loss : 0.4507 test_acc : 80.52 test_loss : 0.5746\n"
          ]
        },
        {
          "output_type": "stream",
          "name": "stderr",
          "text": [
            "100%|██████████| 1875/1875 [00:04<00:00, 443.83it/s]\n"
          ]
        },
        {
          "output_type": "stream",
          "name": "stdout",
          "text": [
            "Epoch : 14  train_acc : 83.48 train_loss : 0.4497 test_acc : 80.57 test_loss : 0.5739\n"
          ]
        },
        {
          "output_type": "stream",
          "name": "stderr",
          "text": [
            "100%|██████████| 1875/1875 [00:05<00:00, 328.47it/s]\n"
          ]
        },
        {
          "output_type": "stream",
          "name": "stdout",
          "text": [
            "Epoch : 15  train_acc : 83.5467 train_loss : 0.4476 test_acc : 80.67 test_loss : 0.571\n"
          ]
        },
        {
          "output_type": "stream",
          "name": "stderr",
          "text": [
            "100%|██████████| 1875/1875 [00:04<00:00, 444.54it/s]\n"
          ]
        },
        {
          "output_type": "stream",
          "name": "stdout",
          "text": [
            "Epoch : 16  train_acc : 83.575 train_loss : 0.447 test_acc : 80.71 test_loss : 0.5706\n"
          ]
        },
        {
          "output_type": "stream",
          "name": "stderr",
          "text": [
            "100%|██████████| 1875/1875 [00:05<00:00, 318.04it/s]\n"
          ]
        },
        {
          "output_type": "stream",
          "name": "stdout",
          "text": [
            "Epoch : 17  train_acc : 83.6033 train_loss : 0.4464 test_acc : 80.73 test_loss : 0.5702\n"
          ]
        },
        {
          "output_type": "stream",
          "name": "stderr",
          "text": [
            "100%|██████████| 1875/1875 [00:04<00:00, 440.46it/s]\n"
          ]
        },
        {
          "output_type": "stream",
          "name": "stdout",
          "text": [
            "Epoch : 18  train_acc : 83.6533 train_loss : 0.445 test_acc : 80.81 test_loss : 0.5686\n"
          ]
        },
        {
          "output_type": "stream",
          "name": "stderr",
          "text": [
            "100%|██████████| 1875/1875 [00:05<00:00, 322.39it/s]\n"
          ]
        },
        {
          "output_type": "stream",
          "name": "stdout",
          "text": [
            "Epoch : 19  train_acc : 83.67 train_loss : 0.4447 test_acc : 80.83 test_loss : 0.5683\n"
          ]
        },
        {
          "output_type": "stream",
          "name": "stderr",
          "text": [
            "100%|██████████| 1875/1875 [00:04<00:00, 444.43it/s]\n"
          ]
        },
        {
          "output_type": "stream",
          "name": "stdout",
          "text": [
            "Epoch : 20  train_acc : 83.675 train_loss : 0.4444 test_acc : 80.86 test_loss : 0.5682\n"
          ]
        }
      ]
    },
    {
      "cell_type": "code",
      "source": [
        "num_of_inputs=100\n",
        "num_of_hidden_layers= 4\n",
        "num_of_classes = 10\n",
        "num_of_neurons = 128\n",
        "activation = \"sigmoid\"\n",
        "nn = Network(num_of_inputs,num_of_hidden_layers,num_of_classes,num_of_neurons,activation)\n",
        "num_of_epochs=  20\n",
        "learning_rate = 1e-2\n",
        "batch_size = 32\n",
        "opitimizer_fun = \"AdamGrad\"\n",
        "train_accs5,train_losses5,test_accs5,test_losses5=nn.train(X_train,y_train,X_test,y_test,num_of_epochs,learning_rate,batch_size,opitimizer_fun)"
      ],
      "metadata": {
        "colab": {
          "base_uri": "https://localhost:8080/"
        },
        "id": "SSnip6Ly2Gxx",
        "outputId": "26f59a2b-3985-4b5b-9f78-73e2f72ce1bf"
      },
      "execution_count": 75,
      "outputs": [
        {
          "output_type": "stream",
          "name": "stderr",
          "text": [
            "  8%|▊         | 153/1875 [00:00<00:10, 162.21it/s]<ipython-input-65-23e4a3d8067c>:14: RuntimeWarning: overflow encountered in exp\n",
            "  return 1/(1+np.exp(-input))\n",
            "100%|██████████| 1875/1875 [00:06<00:00, 295.93it/s]\n"
          ]
        },
        {
          "output_type": "stream",
          "name": "stdout",
          "text": [
            "Epoch : 1  train_acc : 69.7383 train_loss : 4.0391 test_acc : 69.17 test_loss : 4.2314\n"
          ]
        },
        {
          "output_type": "stream",
          "name": "stderr",
          "text": [
            "100%|██████████| 1875/1875 [00:06<00:00, 302.97it/s]\n"
          ]
        },
        {
          "output_type": "stream",
          "name": "stdout",
          "text": [
            "Epoch : 2  train_acc : 75.2583 train_loss : 0.8501 test_acc : 73.6 test_loss : 0.9636\n"
          ]
        },
        {
          "output_type": "stream",
          "name": "stderr",
          "text": [
            "100%|██████████| 1875/1875 [00:04<00:00, 381.30it/s]\n"
          ]
        },
        {
          "output_type": "stream",
          "name": "stdout",
          "text": [
            "Epoch : 3  train_acc : 81.2733 train_loss : 0.5433 test_acc : 79.47 test_loss : 0.6273\n"
          ]
        },
        {
          "output_type": "stream",
          "name": "stderr",
          "text": [
            "100%|██████████| 1875/1875 [00:05<00:00, 317.69it/s]\n"
          ]
        },
        {
          "output_type": "stream",
          "name": "stdout",
          "text": [
            "Epoch : 4  train_acc : 83.6167 train_loss : 0.4897 test_acc : 81.61 test_loss : 0.5815\n"
          ]
        },
        {
          "output_type": "stream",
          "name": "stderr",
          "text": [
            "100%|██████████| 1875/1875 [00:04<00:00, 383.85it/s]\n"
          ]
        },
        {
          "output_type": "stream",
          "name": "stdout",
          "text": [
            "Epoch : 5  train_acc : 85.4433 train_loss : 0.4145 test_acc : 83.05 test_loss : 0.5146\n"
          ]
        },
        {
          "output_type": "stream",
          "name": "stderr",
          "text": [
            "100%|██████████| 1875/1875 [00:05<00:00, 320.62it/s]\n"
          ]
        },
        {
          "output_type": "stream",
          "name": "stdout",
          "text": [
            "Epoch : 6  train_acc : 86.885 train_loss : 0.366 test_acc : 83.79 test_loss : 0.4838\n"
          ]
        },
        {
          "output_type": "stream",
          "name": "stderr",
          "text": [
            "100%|██████████| 1875/1875 [00:04<00:00, 383.39it/s]\n"
          ]
        },
        {
          "output_type": "stream",
          "name": "stdout",
          "text": [
            "Epoch : 7  train_acc : 87.365 train_loss : 0.3582 test_acc : 83.96 test_loss : 0.4861\n"
          ]
        },
        {
          "output_type": "stream",
          "name": "stderr",
          "text": [
            "100%|██████████| 1875/1875 [00:05<00:00, 319.11it/s]\n"
          ]
        },
        {
          "output_type": "stream",
          "name": "stdout",
          "text": [
            "Epoch : 8  train_acc : 88.2117 train_loss : 0.3332 test_acc : 84.54 test_loss : 0.4787\n"
          ]
        },
        {
          "output_type": "stream",
          "name": "stderr",
          "text": [
            "100%|██████████| 1875/1875 [00:04<00:00, 385.25it/s]\n"
          ]
        },
        {
          "output_type": "stream",
          "name": "stdout",
          "text": [
            "Epoch : 9  train_acc : 88.6633 train_loss : 0.3131 test_acc : 84.41 test_loss : 0.4795\n"
          ]
        },
        {
          "output_type": "stream",
          "name": "stderr",
          "text": [
            "100%|██████████| 1875/1875 [00:05<00:00, 324.93it/s]\n"
          ]
        },
        {
          "output_type": "stream",
          "name": "stdout",
          "text": [
            "Epoch : 10  train_acc : 89.13 train_loss : 0.2982 test_acc : 84.57 test_loss : 0.4747\n"
          ]
        },
        {
          "output_type": "stream",
          "name": "stderr",
          "text": [
            "100%|██████████| 1875/1875 [00:04<00:00, 383.98it/s]\n"
          ]
        },
        {
          "output_type": "stream",
          "name": "stdout",
          "text": [
            "Epoch : 11  train_acc : 89.3567 train_loss : 0.2905 test_acc : 84.9 test_loss : 0.4953\n"
          ]
        },
        {
          "output_type": "stream",
          "name": "stderr",
          "text": [
            "100%|██████████| 1875/1875 [00:05<00:00, 319.91it/s]\n"
          ]
        },
        {
          "output_type": "stream",
          "name": "stdout",
          "text": [
            "Epoch : 12  train_acc : 89.845 train_loss : 0.2774 test_acc : 84.91 test_loss : 0.4961\n"
          ]
        },
        {
          "output_type": "stream",
          "name": "stderr",
          "text": [
            "100%|██████████| 1875/1875 [00:04<00:00, 379.46it/s]\n"
          ]
        },
        {
          "output_type": "stream",
          "name": "stdout",
          "text": [
            "Epoch : 13  train_acc : 89.9833 train_loss : 0.2736 test_acc : 84.86 test_loss : 0.5063\n"
          ]
        },
        {
          "output_type": "stream",
          "name": "stderr",
          "text": [
            "100%|██████████| 1875/1875 [00:05<00:00, 324.65it/s]\n"
          ]
        },
        {
          "output_type": "stream",
          "name": "stdout",
          "text": [
            "Epoch : 14  train_acc : 90.025 train_loss : 0.2723 test_acc : 84.74 test_loss : 0.5161\n"
          ]
        },
        {
          "output_type": "stream",
          "name": "stderr",
          "text": [
            "100%|██████████| 1875/1875 [00:04<00:00, 377.84it/s]\n"
          ]
        },
        {
          "output_type": "stream",
          "name": "stdout",
          "text": [
            "Epoch : 15  train_acc : 90.445 train_loss : 0.2612 test_acc : 84.99 test_loss : 0.5267\n"
          ]
        },
        {
          "output_type": "stream",
          "name": "stderr",
          "text": [
            "100%|██████████| 1875/1875 [00:05<00:00, 333.29it/s]\n"
          ]
        },
        {
          "output_type": "stream",
          "name": "stdout",
          "text": [
            "Epoch : 16  train_acc : 90.4717 train_loss : 0.2583 test_acc : 85.0 test_loss : 0.5357\n"
          ]
        },
        {
          "output_type": "stream",
          "name": "stderr",
          "text": [
            "100%|██████████| 1875/1875 [00:04<00:00, 378.83it/s]\n"
          ]
        },
        {
          "output_type": "stream",
          "name": "stdout",
          "text": [
            "Epoch : 17  train_acc : 90.56 train_loss : 0.2555 test_acc : 84.99 test_loss : 0.5436\n"
          ]
        },
        {
          "output_type": "stream",
          "name": "stderr",
          "text": [
            "100%|██████████| 1875/1875 [00:05<00:00, 328.96it/s]\n"
          ]
        },
        {
          "output_type": "stream",
          "name": "stdout",
          "text": [
            "Epoch : 18  train_acc : 90.9467 train_loss : 0.2479 test_acc : 84.94 test_loss : 0.5494\n"
          ]
        },
        {
          "output_type": "stream",
          "name": "stderr",
          "text": [
            "100%|██████████| 1875/1875 [00:04<00:00, 380.90it/s]\n"
          ]
        },
        {
          "output_type": "stream",
          "name": "stdout",
          "text": [
            "Epoch : 19  train_acc : 91.0283 train_loss : 0.2465 test_acc : 84.98 test_loss : 0.555\n"
          ]
        },
        {
          "output_type": "stream",
          "name": "stderr",
          "text": [
            "100%|██████████| 1875/1875 [00:05<00:00, 324.58it/s]\n"
          ]
        },
        {
          "output_type": "stream",
          "name": "stdout",
          "text": [
            "Epoch : 20  train_acc : 91.005 train_loss : 0.2458 test_acc : 84.92 test_loss : 0.5598\n"
          ]
        }
      ]
    },
    {
      "cell_type": "code",
      "source": [
        "#Results Plotting\n",
        "import matplotlib.pyplot as plt\n",
        "figure, axis = plt.subplots(2, 2,figsize=(15, 12.5))\n",
        "\n",
        "train_accs5,train_losses5,test_accs5,test_losses5\n",
        "\n",
        "epochs = [ i for i in range(1,21)]\n",
        "\n",
        "axis[0,0].set_title(\"Training Loss\",fontsize=20,color=\"green\")\n",
        "axis[0,0].set_xlabel(\"#Epochs\")\n",
        "axis[0,0].set_ylabel(\"Loss\")\n",
        "axis[0,0].plot(epochs,train_losses1,label=\"MiniBatchSGD\")\n",
        "axis[0,0].plot(epochs,train_losses2,label=\"Momentum\")\n",
        "axis[0,0].plot(epochs,train_losses3,label=\"ADAGrad\")\n",
        "axis[0,0].plot(epochs,train_losses4,label=\"RMSProp\")\n",
        "axis[0,0].plot(epochs,train_losses5,label=\"ADAMGrad\")\n",
        "axis[0,0].legend()\n",
        "\n",
        "\n",
        "axis[0,1].set_title(\"Testing Loss\",fontsize=20,color=\"green\")\n",
        "axis[0,1].set_xlabel(\"#Epochs\")\n",
        "axis[0,1].set_ylabel(\"Loss\")\n",
        "axis[0,1].plot(epochs,test_losses1,label=\"MiniBatchSGD\")\n",
        "axis[0,1].plot(epochs,test_losses2,label=\"Momentum\")\n",
        "axis[0,1].plot(epochs,test_losses3,label=\"ADAGrad\")\n",
        "axis[0,1].plot(epochs,test_losses4,label=\"RMSProp\")\n",
        "axis[0,1].plot(epochs,test_losses5,label=\"ADAMGrad\")\n",
        "axis[0,1].legend()\n",
        "\n",
        "axis[1,0].set_title(\"Training Accuracy\",fontsize=20,color=\"green\")\n",
        "axis[1,0].set_xlabel(\"#Epochs\")\n",
        "axis[1,0].set_ylabel(\"Accuracy\")\n",
        "axis[1,0].plot(epochs,train_accs1,label=\"MiniBatchSGD\")\n",
        "axis[1,0].plot(epochs,train_accs2,label=\"Momentum\")\n",
        "axis[1,0].plot(epochs,train_accs3,label=\"ADAGrad\")\n",
        "axis[1,0].plot(epochs,train_accs4,label=\"RMSProp\")\n",
        "axis[1,0].plot(epochs,train_accs5,label=\"ADAMGrad\")\n",
        "axis[1,0].legend()\n",
        "\n",
        "axis[1,1].set_title(\"Testing Accuracy\",fontsize=20,color=\"green\")\n",
        "axis[1,1].set_xlabel(\"#Epochs\")\n",
        "axis[1,1].set_ylabel(\"Accuracy\")\n",
        "axis[1,1].plot(epochs,test_accs1,label=\"MiniBatchSGD\")\n",
        "axis[1,1].plot(epochs,test_accs2,label=\"Momentum\")\n",
        "axis[1,1].plot(epochs,test_accs3,label=\"ADAGrad\")\n",
        "axis[1,1].plot(epochs,test_accs4,label=\"RMSProp\")\n",
        "axis[1,1].plot(epochs,test_accs5,label=\"ADAMGrad\")\n",
        "axis[1,1].legend()"
      ],
      "metadata": {
        "colab": {
          "base_uri": "https://localhost:8080/",
          "height": 1000
        },
        "id": "feQYHSIzE-Yi",
        "outputId": "dd29126d-6517-43da-c69c-800a7311d48c"
      },
      "execution_count": 96,
      "outputs": [
        {
          "output_type": "execute_result",
          "data": {
            "text/plain": [
              "<matplotlib.legend.Legend at 0x7fd7a2d47190>"
            ]
          },
          "metadata": {},
          "execution_count": 96
        },
        {
          "output_type": "display_data",
          "data": {
            "text/plain": [
              "<Figure size 1500x1250 with 4 Axes>"
            ],
            "image/png": "[encoded data removed]"
          },
          "metadata": {}
        }
      ]
    }
  ]
}